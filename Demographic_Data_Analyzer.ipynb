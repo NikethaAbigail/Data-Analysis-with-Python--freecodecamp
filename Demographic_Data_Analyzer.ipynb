{
  "nbformat": 4,
  "nbformat_minor": 0,
  "metadata": {
    "colab": {
      "provenance": []
    },
    "kernelspec": {
      "name": "python3",
      "display_name": "Python 3"
    },
    "language_info": {
      "name": "python"
    }
  },
  "cells": [
    {
      "cell_type": "code",
      "execution_count": 4,
      "metadata": {
        "id": "rLfSNbx9TwTU"
      },
      "outputs": [],
      "source": [
        "import pandas as pd\n",
        "\n",
        "def calculate_demographic_data(print_data=True):\n",
        "    df = pd.read_csv('adult.data.csv')\n",
        "    race_count = df['race'].value_counts()\n",
        "    average_age_men = round(df[df['sex'] == 'Male']['age'].mean(), 1)\n",
        "    percentage_bachelors = round((df['education'] == 'Bachelors').sum() / len(df) * 100, 1)\n",
        "    higher_education = df['education'].isin(['Bachelors', 'Masters', 'Doctorate'])\n",
        "    higher_education_rich = round((df[higher_education & (df['salary'] == '>50K')].shape[0] / df[higher_education].shape[0]) * 100, 1)\n",
        "    lower_education = ~df['education'].isin(['Bachelors', 'Masters', 'Doctorate'])\n",
        "    lower_education_rich = round((df[lower_education & (df['salary'] == '>50K')].shape[0] / df[lower_education].shape[0]) * 100, 1)\n",
        "    min_work_hours = df['hours-per-week'].min()\n",
        "    num_min_workers = df[df['hours-per-week'] == min_work_hours]\n",
        "    rich_percentage = round((num_min_workers[num_min_workers['salary'] == '>50K'].shape[0] / num_min_workers.shape[0]) * 100, 1)\n",
        "    country_salary_counts = df[df['salary'] == '>50K']['native-country'].value_counts()\n",
        "    country_counts = df['native-country'].value_counts()\n",
        "    country_percentages = (country_salary_counts / country_counts * 100).round(1)\n",
        "    highest_earning_country = country_percentages.idxmax()\n",
        "    highest_earning_country_percentage = country_percentages.max()\n",
        "    india_high_earners = df[(df['native-country'] == 'India') & (df['salary'] == '>50K')]\n",
        "    top_IN_occupation = india_high_earners['occupation'].value_counts().idxmax()\n",
        "\n",
        "    if print_data:\n",
        "        print(\"Number of each race:\\n\", race_count)\n",
        "        print(\"Average age of men:\", average_age_men)\n",
        "        print(f\"Percentage with Bachelors degrees: {percentage_bachelors}%\")\n",
        "        print(f\"Percentage with higher education that earn >50K: {higher_education_rich}%\")\n",
        "        print(f\"Percentage without higher education that earn >50K: {lower_education_rich}%\")\n",
        "        print(f\"Min work hours: {min_work_hours}\")\n",
        "        print(f\"Percentage of rich among those who work fewest hours: {rich_percentage}%\")\n",
        "        print(\"Country with highest percentage of rich:\", highest_earning_country)\n",
        "        print(f\"Highest percentage of rich people in country: {highest_earning_country_percentage}%\")\n",
        "        print(\"Top occupations in India:\", top_IN_occupation)\n",
        "\n",
        "    return {\n",
        "        'race_count': race_count,\n",
        "        'average_age_men': average_age_men,\n",
        "        'percentage_bachelors': percentage_bachelors,\n",
        "        'higher_education_rich': higher_education_rich,\n",
        "        'lower_education_rich': lower_education_rich,\n",
        "        'min_work_hours': min_work_hours,\n",
        "        'rich_percentage': rich_percentage,\n",
        "        'highest_earning_country': highest_earning_country,\n",
        "        'highest_earning_country_percentage': highest_earning_country_percentage,\n",
        "        'top_IN_occupation': top_IN_occupation\n",
        "    }"
      ]
    },
    {
      "cell_type": "code",
      "source": [
        "!wget https://raw.githubusercontent.com/freeCodeCamp/boilerplate-demographic-data-analyzer/master/adult.data.csv"
      ],
      "metadata": {
        "colab": {
          "base_uri": "https://localhost:8080/"
        },
        "id": "6XQ7M705UFOT",
        "outputId": "69411645-327f-468c-dc32-dd5c9f329837"
      },
      "execution_count": 5,
      "outputs": [
        {
          "output_type": "stream",
          "name": "stdout",
          "text": [
            "--2025-06-25 09:02:58--  https://raw.githubusercontent.com/freeCodeCamp/boilerplate-demographic-data-analyzer/master/adult.data.csv\n",
            "Resolving raw.githubusercontent.com (raw.githubusercontent.com)... 185.199.110.133, 185.199.111.133, 185.199.108.133, ...\n",
            "Connecting to raw.githubusercontent.com (raw.githubusercontent.com)|185.199.110.133|:443... connected.\n",
            "HTTP request sent, awaiting response... 200 OK\n",
            "Length: 3518607 (3.4M) [text/plain]\n",
            "Saving to: ‘adult.data.csv’\n",
            "\n",
            "\radult.data.csv        0%[                    ]       0  --.-KB/s               \radult.data.csv      100%[===================>]   3.36M  --.-KB/s    in 0.02s   \n",
            "\n",
            "2025-06-25 09:02:58 (183 MB/s) - ‘adult.data.csv’ saved [3518607/3518607]\n",
            "\n"
          ]
        }
      ]
    },
    {
      "cell_type": "code",
      "source": [
        "result = calculate_demographic_data(print_data=True)"
      ],
      "metadata": {
        "colab": {
          "base_uri": "https://localhost:8080/"
        },
        "id": "TG7y__YyUJDB",
        "outputId": "f8789375-faba-4b99-8188-0196b1236094"
      },
      "execution_count": 6,
      "outputs": [
        {
          "output_type": "stream",
          "name": "stdout",
          "text": [
            "Number of each race:\n",
            " race\n",
            "White                 27816\n",
            "Black                  3124\n",
            "Asian-Pac-Islander     1039\n",
            "Amer-Indian-Eskimo      311\n",
            "Other                   271\n",
            "Name: count, dtype: int64\n",
            "Average age of men: 39.4\n",
            "Percentage with Bachelors degrees: 16.4%\n",
            "Percentage with higher education that earn >50K: 46.5%\n",
            "Percentage without higher education that earn >50K: 17.4%\n",
            "Min work hours: 1\n",
            "Percentage of rich among those who work fewest hours: 10.0%\n",
            "Country with highest percentage of rich: Iran\n",
            "Highest percentage of rich people in country: 41.9%\n",
            "Top occupations in India: Prof-specialty\n"
          ]
        }
      ]
    },
    {
      "cell_type": "code",
      "source": [
        "result = calculate_demographic_data(print_data=False)\n",
        "assert result['average_age_men'] == 39.4, \"Average age of men test failed\"\n",
        "print(\"Test passed!\")"
      ],
      "metadata": {
        "colab": {
          "base_uri": "https://localhost:8080/"
        },
        "id": "wQ8Jugj4U6ZT",
        "outputId": "e017b92d-eb73-4013-c76a-15442d889841"
      },
      "execution_count": 7,
      "outputs": [
        {
          "output_type": "stream",
          "name": "stdout",
          "text": [
            "Test passed!\n"
          ]
        }
      ]
    }
  ]
}