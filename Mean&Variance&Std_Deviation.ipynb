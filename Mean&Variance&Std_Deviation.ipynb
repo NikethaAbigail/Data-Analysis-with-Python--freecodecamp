{
  "nbformat": 4,
  "nbformat_minor": 0,
  "metadata": {
    "colab": {
      "provenance": []
    },
    "kernelspec": {
      "name": "python3",
      "display_name": "Python 3"
    },
    "language_info": {
      "name": "python"
    }
  },
  "cells": [
    {
      "cell_type": "code",
      "execution_count": 1,
      "metadata": {
        "id": "rLfSNbx9TwTU"
      },
      "outputs": [],
      "source": [
        "import numpy as np\n",
        "\n",
        "def calculate(list):\n",
        "    if len(list) != 9:\n",
        "        raise ValueError(\"List must contain nine numbers.\")\n",
        "    arr = np.array(list).reshape(3,3)\n",
        "    result = {\n",
        "        'mean': [\n",
        "            np.mean(arr, axis=0).tolist(),\n",
        "            np.mean(arr, axis=1).tolist(),\n",
        "            np.mean(arr).tolist()\n",
        "        ],\n",
        "        'variance': [\n",
        "            np.var(arr, axis=0).tolist(),\n",
        "            np.var(arr, axis=1).tolist(),\n",
        "            np.var(arr).tolist()\n",
        "        ],\n",
        "        'standard deviation': [\n",
        "            np.std(arr, axis=0).tolist(),\n",
        "            np.std(arr, axis=1).tolist(),\n",
        "            np.std(arr).tolist()\n",
        "        ],\n",
        "        'max': [\n",
        "            np.max(arr, axis=0).tolist(),\n",
        "            np.max(arr, axis=1).tolist(),\n",
        "            np.max(arr).tolist()\n",
        "        ],\n",
        "        'min': [\n",
        "            np.min(arr, axis=0).tolist(),\n",
        "            np.min(arr, axis=1).tolist(),\n",
        "            np.min(arr).tolist()\n",
        "        ],\n",
        "        'sum': [\n",
        "            np.sum(arr, axis=0).tolist(),\n",
        "            np.sum(arr, axis=1).tolist(),\n",
        "            np.sum(arr).tolist()\n",
        "        ]\n",
        "    }\n",
        "    return result"
      ]
    },
    {
      "cell_type": "code",
      "source": [
        "try:\n",
        "    test_input = [0, 1, 2, 3, 4, 5, 6, 7, 8]\n",
        "    result = calculate(test_input)\n",
        "    print(\"Result for input\", test_input, \":\")\n",
        "    import json\n",
        "    print(json.dumps(result, indent=2))\n",
        "except ValueError as e:\n",
        "    print(\"Error:\", str(e))"
      ],
      "metadata": {
        "colab": {
          "base_uri": "https://localhost:8080/"
        },
        "id": "Q6RmkouFUCUn",
        "outputId": "386fa9a7-2bc1-412a-de67-9730aba98a17"
      },
      "execution_count": 2,
      "outputs": [
        {
          "output_type": "stream",
          "name": "stdout",
          "text": [
            "Result for input [0, 1, 2, 3, 4, 5, 6, 7, 8] :\n",
            "{\n",
            "  \"mean\": [\n",
            "    [\n",
            "      3.0,\n",
            "      4.0,\n",
            "      5.0\n",
            "    ],\n",
            "    [\n",
            "      1.0,\n",
            "      4.0,\n",
            "      7.0\n",
            "    ],\n",
            "    4.0\n",
            "  ],\n",
            "  \"variance\": [\n",
            "    [\n",
            "      6.0,\n",
            "      6.0,\n",
            "      6.0\n",
            "    ],\n",
            "    [\n",
            "      0.6666666666666666,\n",
            "      0.6666666666666666,\n",
            "      0.6666666666666666\n",
            "    ],\n",
            "    6.666666666666667\n",
            "  ],\n",
            "  \"standard deviation\": [\n",
            "    [\n",
            "      2.449489742783178,\n",
            "      2.449489742783178,\n",
            "      2.449489742783178\n",
            "    ],\n",
            "    [\n",
            "      0.816496580927726,\n",
            "      0.816496580927726,\n",
            "      0.816496580927726\n",
            "    ],\n",
            "    2.581988897471611\n",
            "  ],\n",
            "  \"max\": [\n",
            "    [\n",
            "      6,\n",
            "      7,\n",
            "      8\n",
            "    ],\n",
            "    [\n",
            "      2,\n",
            "      5,\n",
            "      8\n",
            "    ],\n",
            "    8\n",
            "  ],\n",
            "  \"min\": [\n",
            "    [\n",
            "      0,\n",
            "      1,\n",
            "      2\n",
            "    ],\n",
            "    [\n",
            "      0,\n",
            "      3,\n",
            "      6\n",
            "    ],\n",
            "    0\n",
            "  ],\n",
            "  \"sum\": [\n",
            "    [\n",
            "      9,\n",
            "      12,\n",
            "      15\n",
            "    ],\n",
            "    [\n",
            "      3,\n",
            "      12,\n",
            "      21\n",
            "    ],\n",
            "    36\n",
            "  ]\n",
            "}\n"
          ]
        }
      ]
    },
    {
      "cell_type": "code",
      "source": [],
      "metadata": {
        "id": "6XQ7M705UFOT"
      },
      "execution_count": null,
      "outputs": []
    },
    {
      "cell_type": "code",
      "source": [
        "try:\n",
        "    test_input = [1, 2, 3]\n",
        "    result = calculate(test_input)\n",
        "except ValueError as e:\n",
        "    print(\"Error:\", str(e))"
      ],
      "metadata": {
        "id": "Ul344vOsUIm7",
        "outputId": "6fe1e995-f91f-47ed-dca2-c9b8433067e2",
        "colab": {
          "base_uri": "https://localhost:8080/"
        }
      },
      "execution_count": 3,
      "outputs": [
        {
          "output_type": "stream",
          "name": "stdout",
          "text": [
            "Error: List must contain nine numbers.\n"
          ]
        }
      ]
    },
    {
      "cell_type": "code",
      "source": [],
      "metadata": {
        "id": "TG7y__YyUJDB"
      },
      "execution_count": null,
      "outputs": []
    }
  ]
}